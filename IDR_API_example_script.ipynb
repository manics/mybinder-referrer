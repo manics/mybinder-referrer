{
 "cells": [
  {
   "cell_type": "markdown",
   "metadata": {},
   "source": [
    "# Example of using the IDR web API"
   ]
  },
  {
   "cell_type": "markdown",
   "metadata": {},
   "source": [
    "OMERO.web uses a default session backend authentication scheme for authentication.\n",
    "First create a HTTP session using the [`requests`](http://docs.python-requests.org/en/master/) library:"
   ]
  },
  {
   "cell_type": "code",
   "execution_count": null,
   "metadata": {},
   "outputs": [],
   "source": [
    "# initial data\n",
    "IDR_BASE_URL = \"https://idr.openmicroscopy.org\"\n"
   ]
  },
  {
   "cell_type": "code",
   "execution_count": null,
   "metadata": {},
   "outputs": [],
   "source": [
    "import requests\n",
    "\n",
    "INDEX_PAGE = \"%s/webclient/?experimenter=-1\" % IDR_BASE_URL\n",
    "\n",
    "# create http session\n",
    "with requests.Session() as session:\n",
    "    request = requests.Request('GET', INDEX_PAGE)\n",
    "    prepped = session.prepare_request(request)\n",
    "    response = session.send(prepped)\n",
    "    if response.status_code != 200:\n",
    "        response.raise_for_status()"
   ]
  },
  {
   "cell_type": "markdown",
   "metadata": {},
   "source": [
    "# Studies:"
   ]
  },
  {
   "cell_type": "markdown",
   "metadata": {},
   "source": [
    "## Get Study map annotation:"
   ]
  },
  {
   "cell_type": "code",
   "execution_count": null,
   "metadata": {},
   "outputs": [],
   "source": [
    "MAP_URL = \"{base}/webclient/api/annotations/?type=map&{type}={screen_id}\"\n",
    "\n",
    "SCREEN_ID = 102\n",
    "\n",
    "qs = {'base': IDR_BASE_URL, 'type': 'screen', 'screen_id': SCREEN_ID}\n",
    "url = MAP_URL.format(**qs)\n",
    "for a in session.get(url).json()['annotations']:\n",
    "    namespace = a['ns']\n",
    "    for v in a['values']:\n",
    "        key = v[0]\n",
    "        value = v[1]\n",
    "        print (key, value)"
   ]
  },
  {
   "cell_type": "markdown",
   "metadata": {},
   "source": [
    "## Get Plates in the given Screen:"
   ]
  },
  {
   "cell_type": "code",
   "execution_count": null,
   "metadata": {},
   "outputs": [],
   "source": [
    "PLATES_URL = \"{base}/webclient/api/plates/?id={screen_id}\"\n",
    "\n",
    "SCREEN_ID = 102\n",
    "\n",
    "qs = {'base': IDR_BASE_URL, 'screen_id': SCREEN_ID}\n",
    "url = PLATES_URL.format(**qs)\n",
    "for p in session.get(url).json()['plates']:\n",
    "    plate_id = p['id']\n",
    "    print(\"Plate: {id}, Name: {name}, Children: {childCount}\".format(**p))"
   ]
  },
  {
   "cell_type": "markdown",
   "metadata": {},
   "source": [
    "## Get PlateGrid:"
   ]
  },
  {
   "cell_type": "code",
   "execution_count": null,
   "metadata": {},
   "outputs": [],
   "source": [
    "WELLS_IMAGES_URL = \"{base}/webgateway/plate/{plate_id}/{field}/\"\n",
    "\n",
    "qs = {'base': IDR_BASE_URL, 'plate_id': plate_id, 'field': 0}\n",
    "url = WELLS_IMAGES_URL.format(**qs)\n",
    "grid = session.get(url).json()\n",
    "rowlabels = grid['rowlabels']\n",
    "collabels = grid['collabels']\n",
    "for row in grid['grid']:\n",
    "    for cell in row:\n",
    "        if cell is not None:\n",
    "            print(\"Well: {wellId}, Image: {id}\".format(**cell))\n"
   ]
  },
  {
   "cell_type": "markdown",
   "metadata": {},
   "source": [
    "## Get Image Thumbnail:"
   ]
  },
  {
   "cell_type": "code",
   "execution_count": null,
   "metadata": {},
   "outputs": [],
   "source": [
    "from IPython.display import display, HTML\n",
    "\n",
    "WELLS_IMAGES_URL = \"{base}/webgateway/plate/{plate_id}/{field}/\"\n",
    "PLATE_ID = 325\n",
    "\n",
    "qs = {'base': IDR_BASE_URL, 'plate_id': PLATE_ID, 'field': 0}\n",
    "url = WELLS_IMAGES_URL.format(**qs)\n",
    "grid = session.get(url).json()\n",
    "\n",
    "image_ids = [cell['id']  for row in grid['grid'] for cell in row if cell is not None]\n",
    "\n",
    "THUMBNAILS_URL = \"{base}/webgateway/get_thumbnails/\".format(**{'base': IDR_BASE_URL, })\n",
    "\n",
    "def thumbnails_chunk(image_list, batch):\n",
    "    for b in range(0, len(image_list), batch):\n",
    "        yield image_list[b:b + batch]\n",
    "batch_size = 20\n",
    "\n",
    "_thumbnails = {}\n",
    "for batch in thumbnails_chunk(image_ids, batch_size):\n",
    "    payload = {'id': batch}\n",
    "    for iid, thumb in session.get(THUMBNAILS_URL, params=payload).json().items():\n",
    "        _thumbnails[int(iid)] = thumb\n",
    "\n",
    "# Display plate\n",
    "_tbody = []\n",
    "for row in grid['grid']:\n",
    "    _tr = [\"<tr>\"]\n",
    "    for cell in row:\n",
    "        if cell is not None:\n",
    "            _tr.append('<td><img src=\"%s\"/></td>' % _thumbnails[cell['id']])\n",
    "        else:\n",
    "            _tr.append('<td></td>')\n",
    "    _tr.append(\"</tr>\")\n",
    "    _tbody.append(\"&nbsp;\".join(_tr))\n",
    "display(HTML(\"<table>\" + \"\".join(_tbody) + \"</table>\"))"
   ]
  },
  {
   "cell_type": "markdown",
   "metadata": {},
   "source": [
    "## Get Image:"
   ]
  },
  {
   "cell_type": "code",
   "execution_count": null,
   "metadata": {},
   "outputs": [],
   "source": [
    "from IPython.display import display, HTML\n",
    "\n",
    "IMAGE_DETAILS_URL = \"{base}/webclient/imgData/{image_id}/\"\n",
    "\n",
    "IMAGE_ID = 122770\n",
    "\n",
    "qs = {'base': IDR_BASE_URL, 'image_id': IMAGE_ID}\n",
    "url = IMAGE_DETAILS_URL.format(**qs)\n",
    "r = session.get(url)\n",
    "if r.status_code == 200:\n",
    "    print (r.json())\n",
    "\n",
    "RENDER_IMAGE = \"{base}/webgateway/render_image/{image_id}/0/0/\"\n",
    "img_url = RENDER_IMAGE.format(**qs)\n",
    "\n",
    "display(HTML(\"<img src='%s' />\" % img_url))"
   ]
  },
  {
   "cell_type": "markdown",
   "metadata": {},
   "source": [
    "## Get Image map annotation:"
   ]
  },
  {
   "cell_type": "code",
   "execution_count": null,
   "metadata": {},
   "outputs": [],
   "source": [
    "MAP_URL = \"{base}/webclient/api/annotations/?type=map&{type}={image_id}\"\n",
    "\n",
    "IMAGE_ID = 122770\n",
    "\n",
    "qs = {'base': IDR_BASE_URL, 'type': 'image', 'image_id': IMAGE_ID}\n",
    "url = MAP_URL.format(**qs)\n",
    "for a in session.get(url).json()['annotations']:\n",
    "    namespace = a['ns']\n",
    "    for v in a['values']:\n",
    "        key = v[0]\n",
    "        value = v[1]\n",
    "        print (key, value)"
   ]
  },
  {
   "cell_type": "markdown",
   "metadata": {},
   "source": [
    "## Get bulk annotation:"
   ]
  },
  {
   "cell_type": "code",
   "execution_count": null,
   "metadata": {},
   "outputs": [],
   "source": [
    "BULK_URL = \"{base}/webgateway/table/Screen.plateLinks.child.wells/{well_id}/query/?query=Well-{well_id}\"\n",
    "\n",
    "WELL_ID = 45217\n",
    "qs = {'base': IDR_BASE_URL, 'well_id': WELL_ID}\n",
    "url = BULK_URL.format(**qs)\n",
    "r = session.get(url)\n",
    "print (r.json())\n",
    "\n",
    "\n",
    "# or download entire bulk_annotation file:\n",
    "\n",
    "FILEANNOTATION_URL = \"{base}/webclient/api/annotations/?type=file&screen={screen_id}\"\n",
    "DOWNLOAD_URL = \"{base}/webclient/annotation/{ann_id}\"\n",
    "\n",
    "SCREEN_ID = 206\n",
    "\n",
    "qs = {'base': IDR_BASE_URL, 'screen_id': SCREEN_ID}\n",
    "url = FILEANNOTATION_URL.format(**qs)\n",
    "for a in session.get(url).json()['annotations']:\n",
    "    namespace = a['ns']\n",
    "    ann_id = a['id']\n",
    "    qs2 = {'base': IDR_BASE_URL, 'ann_id':  a['id']}\n",
    "    url2 = DOWNLOAD_URL.format(**qs2)\n",
    "    print (\"Download URL:\", url2)"
   ]
  },
  {
   "cell_type": "markdown",
   "metadata": {},
   "source": [
    "# Attributes (e.g. Gene, Phenotype...)"
   ]
  },
  {
   "cell_type": "markdown",
   "metadata": {},
   "source": [
    "## Get Screens that are annotated with gene:"
   ]
  },
  {
   "cell_type": "code",
   "execution_count": null,
   "metadata": {},
   "outputs": [],
   "source": [
    "SCREENS_PROJECTS_URL = \"{base}/mapr/api/{key}/?value={value}\"\n",
    "\n",
    "qs = {'base': IDR_BASE_URL, 'key': 'gene', 'value': 'CDC20'}\n",
    "url = SCREENS_PROJECTS_URL.format(**qs)\n",
    "for s in session.get(url).json()['screens']:\n",
    "    screen_id = s['id']\n",
    "    print (s['id'], s['name'])"
   ]
  },
  {
   "cell_type": "markdown",
   "metadata": {},
   "source": [
    "## Get Plates in Screen that are annotated with gene:"
   ]
  },
  {
   "cell_type": "code",
   "execution_count": null,
   "metadata": {},
   "outputs": [],
   "source": [
    "PLATES_URL = \"{base}/mapr/api/{key}/plates/?value={value}&id={screen_id}\"\n",
    "\n",
    "qs = {'base': IDR_BASE_URL, 'key': 'gene', 'value': 'CDC20', 'screen_id': screen_id}\n",
    "url = PLATES_URL.format(**qs)\n",
    "for p in session.get(url).json()['plates']:\n",
    "    plate_id = p['id']\n",
    "    print (p['id'], p['name'])"
   ]
  },
  {
   "cell_type": "markdown",
   "metadata": {},
   "source": [
    "## Get Images in Plate that are annotated with gene:"
   ]
  },
  {
   "cell_type": "code",
   "execution_count": null,
   "metadata": {},
   "outputs": [],
   "source": [
    "IMAGES_URL = \"{base}/mapr/api/{key}/images/?value={value}&node={parent_type}&id={parent_id}\"\n",
    "\n",
    "IMAGE_URL = \"{base}/webclient/?show=image-{image_id}\"\n",
    "IMAGE_VIEWER = \"{base}/webclient/img_detail/{image_id}/\"\n",
    "THUMBNAIL_URL = \"{base}/webclient/render_thumbnail/{image_id}/\"\n",
    "ATTRIBUTES_URL = \"{base}/webclient/api/annotations/?type=map&image={image_id}\"\n",
    "\n",
    "qs = {'base': IDR_BASE_URL, 'key': 'gene', 'value': 'CDC20', 'parent_type': 'plate', 'parent_id': plate_id}\n",
    "url = IMAGES_URL.format(**qs)\n",
    "for i in session.get(url).json()['images']:\n",
    "    image_id = i['id']\n",
    "    print ('Image link:', IMAGE_URL.format(**{'base': IDR_BASE_URL, 'image_id': image_id}))\n",
    "    print ('Image viewer link:', IMAGE_VIEWER.format(**{'base': IDR_BASE_URL, 'image_id': image_id}))\n",
    "    print ('Thumbnail URL:', THUMBNAIL_URL.format(**{'base': IDR_BASE_URL, 'image_id': image_id}))\n",
    "    url = ATTRIBUTES_URL.format(**{'base': IDR_BASE_URL, 'image_id': image_id})\n",
    "    print ('Annotations:')\n",
    "    for a in session.get(url).json()['annotations']:\n",
    "        print ('\\t%s' % a['values'])"
   ]
  },
  {
   "cell_type": "code",
   "execution_count": null,
   "metadata": {},
   "outputs": [],
   "source": []
  }
 ],
 "metadata": {
  "kernelspec": {
   "display_name": "Python 3",
   "language": "python",
   "name": "python3"
  },
  "language_info": {
   "codemirror_mode": {
    "name": "ipython",
    "version": 3
   },
   "file_extension": ".py",
   "mimetype": "text/x-python",
   "name": "python",
   "nbconvert_exporter": "python",
   "pygments_lexer": "ipython3",
   "version": "3.7.3"
  }
 },
 "nbformat": 4,
 "nbformat_minor": 2
}
